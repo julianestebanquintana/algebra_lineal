{
 "cells": [
  {
   "cell_type": "code",
   "execution_count": null,
   "id": "35abc7e2-416c-4411-9ab9-b91fb10a7200",
   "metadata": {},
   "outputs": [],
   "source": []
  }
 ],
 "metadata": {
  "kernelspec": {
   "display_name": "",
   "name": ""
  },
  "language_info": {
   "name": ""
  }
 },
 "nbformat": 4,
 "nbformat_minor": 5
}
