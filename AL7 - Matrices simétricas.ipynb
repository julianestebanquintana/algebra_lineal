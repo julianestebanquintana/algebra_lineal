{
 "cells": [
  {
   "cell_type": "code",
   "execution_count": null,
   "id": "8fdde461-9a4c-4fd9-9f8c-4b8269c7d3b3",
   "metadata": {},
   "outputs": [],
   "source": []
  }
 ],
 "metadata": {
  "kernelspec": {
   "display_name": "",
   "name": ""
  },
  "language_info": {
   "name": ""
  }
 },
 "nbformat": 4,
 "nbformat_minor": 5
}
