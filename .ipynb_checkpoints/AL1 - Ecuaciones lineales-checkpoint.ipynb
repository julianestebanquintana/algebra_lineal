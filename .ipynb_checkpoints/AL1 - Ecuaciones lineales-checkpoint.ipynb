{
 "cells": [
  {
   "cell_type": "markdown",
   "id": "51ba0b65-c53a-468e-9991-fec2af73309e",
   "metadata": {},
   "source": [
    "# Ecuaciones lineales\n",
    "\n",
    "**Ecuación lineal**: puede escribirse de la forma $a_1 x_1 + a_2 x_2 + \\ldots + a_n x_n = b$, donde $b$ y los coeficientes $a_1, \\ldots, a_n$ son $\\mathbb{R}$ ó $\\mathbb{C}$.\n",
    "\n",
    "**Sistema de ecuaciones lineales**: colección de 1 o más ecuaciones lineales que involucran las mismas variables. \n",
    "\n",
    "Una **solución** del sistema, es una lista $(S_1, S_2, \\ldots, S_n)$ de números que hace que cuando se reemplacen por $x_1, \\ldots, x_n$, hacen que todas las ecuacciones sean verdad. El conjunto de todas las posibles soluciones, es el **conjunto solución**. \n",
    "\n",
    "Un sistema de ecuaciones tiene:\n",
    "\n",
    "1. Ninguna solución\n",
    "2. Una solución\n",
    "3. Infinitas soluciones\n",
    "\n",
    "1 es inconsistente ó incompatible; 2 y 3 son consistentes o compatibles.\n",
    "\n",
    "Los coeficientes de un sistema lineal forman una matriz: la **matriz de los coeficientes**. Esta se puede convertir en una **matriz aumentada**, con el vector de resultados."
   ]
  },
  {
   "cell_type": "markdown",
   "id": "204a98b1-99c7-44e7-be18-da11baa6ad6d",
   "metadata": {},
   "source": [
    "Operaciones elementales de filas:\n",
    "1. Reemplazar: reemplazar una fila por la suma de sí misma y un múltiplo de otra fila.\n",
    "2. Intercambiar: Intercambiar dos filas.\n",
    "3. Escalar: Multiplicar todas las entradas de una fila por una constante diferente de 0.\n",
    "\n",
    "Dos matrices son *row equivalent\" si existe una secuencia de operaciones elementales que transforma una matriz en la otra.\n",
    "Si las matrices aumentadas de dos sistemas lineales son *row equivalent*, ambos sistemas tienen el mismo conjunto solución."
   ]
  },
  {
   "cell_type": "markdown",
   "id": "de97bab7-d777-4326-b617-b60884a1b0d2",
   "metadata": {},
   "source": [
    "Dos preguntas fundamentales sobre un sistema lineal:\n",
    "1. Si el sistema es consistente. ¿Existe al menos una solución?\n",
    "2. Si es consistente, si sólo hay una solución. ¿La solución es única?"
   ]
  },
  {
   "cell_type": "markdown",
   "id": "1e3d8bee-1d0d-4652-96ed-0eec1b857cf8",
   "metadata": {},
   "source": [
    "Una **posición pivote** en una matriz A, es una ubicación en A que corresponde a un 1 en una posición *leading entry* en la forma escalonada reducida de A.  \n",
    "Una **columna pivote** es una columna de A que contiene una posición pivote."
   ]
  },
  {
   "cell_type": "markdown",
   "id": "9a27396a-02d5-4b61-ac1a-b6fba92e70bf",
   "metadata": {},
   "source": [
    "## Algoritmo de reducción de filas\n",
    "\n",
    "1. Empezar con la fila no cero más a la izquierda. Es la columna pivote. La posición pivote estará arriba.\n",
    "2. Seleccionar una entrada *no cero* en la columna pivote, como pivote. Si hace falta, intercambiar filas para que esta fila quede en posición pivote.\n",
    "3. Usar operaciones de reemplazo de filas para crear cero en todas las posiciones por debajo del pivote.\n",
    "4. Ignorar la fila que contiene la posición pivote y las filas por encima de esta. Aplicar los pasos 1 a 3, en la submatriz que queda. Repetir el proceso hasta que no queden *no ceros* qué modificar. \n",
    "5. Empezar con el pivote más a la derecha y trabajar hacia arriba y a la izquierda, para crear ceros por encima de cada pivote. Si un pivote no es 1, escalar para hacerlo 1."
   ]
  },
  {
   "cell_type": "markdown",
   "id": "fe0bbd23-a113-4677-a16c-21d450d0b189",
   "metadata": {},
   "source": [
    "## Soluciones de sistemas lineales\n",
    "\n",
    "La reducción lleva a una descripción del conjunto solución. Las variables que quedan, pueden ser **variables básicas** o **variables libres**. Si el sistema es consistente, se puede describir explícitamente en términos de las variables básicas. \n",
    "\n",
    "Las descripciones en términos de las variables básicas, son **descripciones paramétricas**, en las que las variables libres actúan como parámetros. Resolver un sistema es encontrar la descripción paramétrica del conjunto solución o determinar si el conjunto solución está vacío."
   ]
  },
  {
   "cell_type": "markdown",
   "id": "490e86b3-78a7-4467-bc6f-b7904f52367b",
   "metadata": {},
   "source": [
    "**Teorema 2**: "
   ]
  },
  {
   "cell_type": "markdown",
   "id": "dd92e246-3372-4134-9dc6-84cf5f42ed12",
   "metadata": {},
   "source": []
  },
  {
   "cell_type": "markdown",
   "id": "efef8e36-ac20-4115-93ce-5423b8d02e6e",
   "metadata": {},
   "source": []
  },
  {
   "cell_type": "markdown",
   "id": "4d6e8079-5893-4e80-b1b2-2d9488bb1f0b",
   "metadata": {},
   "source": []
  },
  {
   "cell_type": "code",
   "execution_count": null,
   "id": "446c967c-ccf3-40d2-8bcf-ad2bd29250cb",
   "metadata": {},
   "outputs": [],
   "source": []
  },
  {
   "cell_type": "code",
   "execution_count": null,
   "id": "42014698-315b-4d6a-9229-6bc80dd3bf7e",
   "metadata": {},
   "outputs": [],
   "source": []
  },
  {
   "cell_type": "code",
   "execution_count": null,
   "id": "244e69b2-1bf0-4b4b-a40b-55e48ce345c5",
   "metadata": {},
   "outputs": [],
   "source": []
  },
  {
   "cell_type": "code",
   "execution_count": 1,
   "id": "01dcae2c-8323-4a23-9fad-91944c4cd948",
   "metadata": {},
   "outputs": [],
   "source": [
    "import numpy as np"
   ]
  },
  {
   "cell_type": "code",
   "execution_count": 2,
   "id": "1206d8a5-8210-4685-86a7-8a5f22c338e0",
   "metadata": {},
   "outputs": [],
   "source": [
    "matriz = np.array([[27.6,30.2,162],[3100,6400,23610],[250,360,1623]])"
   ]
  },
  {
   "cell_type": "code",
   "execution_count": 3,
   "id": "6eb7952c-c351-48ae-9c58-ac9f6b19712b",
   "metadata": {},
   "outputs": [],
   "source": [
    "matriz1 = np.array([[27.6,30.2],[3100,6400],[250,360]])"
   ]
  },
  {
   "cell_type": "code",
   "execution_count": 4,
   "id": "7607dedc-b2ad-410c-b3c1-7eb257fbf876",
   "metadata": {},
   "outputs": [],
   "source": [
    "b = np.array([[162],[23610],[1623]])"
   ]
  }
 ],
 "metadata": {
  "kernelspec": {
   "display_name": "Python 3 (ipykernel)",
   "language": "python",
   "name": "python3"
  },
  "language_info": {
   "codemirror_mode": {
    "name": "ipython",
    "version": 3
   },
   "file_extension": ".py",
   "mimetype": "text/x-python",
   "name": "python",
   "nbconvert_exporter": "python",
   "pygments_lexer": "ipython3",
   "version": "3.9.21"
  }
 },
 "nbformat": 4,
 "nbformat_minor": 5
}
